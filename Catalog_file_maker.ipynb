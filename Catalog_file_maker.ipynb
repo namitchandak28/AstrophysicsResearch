{
 "cells": [
  {
   "cell_type": "code",
   "execution_count": 21,
   "id": "ef16a8f1",
   "metadata": {},
   "outputs": [],
   "source": [
    "import os\n",
    "import numpy as np\n",
    "import matplotlib.pyplot as plt\n",
    "import eazy\n",
    "from astropy.io import fits"
   ]
  },
  {
   "cell_type": "code",
   "execution_count": null,
   "id": "b099e200",
   "metadata": {},
   "outputs": [],
   "source": [
    "\n"
   ]
  },
  {
   "cell_type": "code",
   "execution_count": 22,
   "id": "8412f920",
   "metadata": {},
   "outputs": [
    {
     "name": "stdout",
     "output_type": "stream",
     "text": [
      "XTENSION= 'BINTABLE'           / binary table extension                         BITPIX  =                    8 / array data type                                NAXIS   =                    2 / number of array dimensions                     NAXIS1  =                  248 / length of dimension 1                          NAXIS2  =                 4724 / length of dimension 2                          PCOUNT  =                    0 / number of group parameters                     GCOUNT  =                    1 / number of groups                               TFIELDS =                   31 / number of table fields                         TTYPE1  = 'ID      '                                                            TFORM1  = 'K       '                                                            TTYPE2  = 'RA      '                                                            TFORM2  = 'D       '                                                            TTYPE3  = 'DEC     '                                                            TFORM3  = 'D       '                                                            TTYPE4  = 'HST_F435W'                                                           TFORM4  = 'D       '                                                            TTYPE5  = 'HST_F435W_err'                                                       TFORM5  = 'D       '                                                            TTYPE6  = 'HST_F606W'                                                           TFORM6  = 'D       '                                                            TTYPE7  = 'HST_F606W_err'                                                       TFORM7  = 'D       '                                                            TTYPE8  = 'HST_F775W'                                                           TFORM8  = 'D       '                                                            TTYPE9  = 'HST_F775W_err'                                                       TFORM9  = 'D       '                                                            TTYPE10 = 'HST_F814W'                                                           TFORM10 = 'D       '                                                            TTYPE11 = 'HST_F814W_err'                                                       TFORM11 = 'D       '                                                            TTYPE12 = 'HST_F850LP'                                                          TFORM12 = 'D       '                                                            TTYPE13 = 'HST_F850LP_err'                                                      TFORM13 = 'D       '                                                            TTYPE14 = 'NRC_F090W'                                                           TFORM14 = 'D       '                                                            TTYPE15 = 'NRC_F090W_err'                                                       TFORM15 = 'D       '                                                            TTYPE16 = 'NRC_F115W'                                                           TFORM16 = 'D       '                                                            TTYPE17 = 'NRC_F115W_err'                                                       TFORM17 = 'D       '                                                            TTYPE18 = 'NRC_F150W'                                                           TFORM18 = 'D       '                                                            TTYPE19 = 'NRC_F150W_err'                                                       TFORM19 = 'D       '                                                            TTYPE20 = 'NRC_F200W'                                                           TFORM20 = 'D       '                                                            TTYPE21 = 'NRC_F200W_err'                                                       TFORM21 = 'D       '                                                            TTYPE22 = 'NRC_F277W'                                                           TFORM22 = 'D       '                                                            TTYPE23 = 'NRC_F277W_err'                                                       TFORM23 = 'D       '                                                            TTYPE24 = 'NRC_F335M'                                                           TFORM24 = 'D       '                                                            TTYPE25 = 'NRC_F335M_err'                                                       TFORM25 = 'D       '                                                            TTYPE26 = 'NRC_F356W'                                                           TFORM26 = 'D       '                                                            TTYPE27 = 'NRC_F356W_err'                                                       TFORM27 = 'D       '                                                            TTYPE28 = 'NRC_F410M'                                                           TFORM28 = 'D       '                                                            TTYPE29 = 'NRC_F410M_err'                                                       TFORM29 = 'D       '                                                            TTYPE30 = 'NRC_F444W'                                                           TFORM30 = 'D       '                                                            TTYPE31 = 'NRC_F444W_err'                                                       TFORM31 = 'D       '                                                            END                                                                                                                                                             \n"
     ]
    }
   ],
   "source": [
    "full_table = fits.open(\"Namit_JADES_flux_example_sources_v093_CIRC1.fits\")\n",
    "IDs = full_table[1].data['ID']\n",
    "\n",
    "\n",
    "'''\n",
    "HST_F435W_flux_err = full_table[1].data['HST_F435W_err'] # Get data from row\n",
    "HST_F435W_flux = full_table[1].[header] # Get data from coloumn\n",
    "'''\n",
    "HST_F435W_flux = full_table[1].data['HST_F435W']\n",
    "HST_F435W_flux_err = full_table[1].data['HST_F435W_err']\n",
    "file_headers = full_table[1].header # Get data from coloumn\n",
    "print(file_headers)\n",
    "Ids = full_table[1].data['ID']"
   ]
  },
  {
   "cell_type": "code",
   "execution_count": 23,
   "id": "8359924f",
   "metadata": {},
   "outputs": [
    {
     "name": "stdout",
     "output_type": "stream",
     "text": [
      "HST_F435W\n"
     ]
    }
   ],
   "source": [
    "print(file_headers[14]) #Names start from index 14, and alternate. So, error is at index 16, then next is at 18, its error at 20, and so on, go up to len - 2."
   ]
  },
  {
   "cell_type": "code",
   "execution_count": 24,
   "id": "207fba45",
   "metadata": {},
   "outputs": [],
   "source": [
    "i = int(14)\n",
    "flux_headers = []\n",
    "while i < len(file_headers):\n",
    "    flux_headers.append(file_headers[i])\n",
    "    i = i + 4\n",
    "\n",
    "j = int(16)\n",
    "    \n",
    "error_headers = []\n",
    "while j < len(file_headers):\n",
    "    error_headers.append(file_headers[j])\n",
    "    j = j + 4"
   ]
  },
  {
   "cell_type": "code",
   "execution_count": 25,
   "id": "437e8a8a",
   "metadata": {},
   "outputs": [
    {
     "name": "stdout",
     "output_type": "stream",
     "text": [
      "['HST_F435W', 'HST_F606W', 'HST_F775W', 'HST_F814W', 'HST_F850LP', 'NRC_F090W', 'NRC_F115W', 'NRC_F150W', 'NRC_F200W', 'NRC_F277W', 'NRC_F335M', 'NRC_F356W', 'NRC_F410M', 'NRC_F444W']\n",
      "['HST_F435W_err', 'HST_F606W_err', 'HST_F775W_err', 'HST_F814W_err', 'HST_F850LP_err', 'NRC_F090W_err', 'NRC_F115W_err', 'NRC_F150W_err', 'NRC_F200W_err', 'NRC_F277W_err', 'NRC_F335M_err', 'NRC_F356W_err', 'NRC_F410M_err', 'NRC_F444W_err']\n"
     ]
    }
   ],
   "source": [
    "print(flux_headers)\n",
    "print(error_headers)"
   ]
  },
  {
   "cell_type": "code",
   "execution_count": 29,
   "id": "343742d8",
   "metadata": {},
   "outputs": [
    {
     "name": "stdout",
     "output_type": "stream",
     "text": [
      "['f_f435w e_f435w f_f606w e_f606w f_f775w e_f775w f_f814w e_f814w f_f850lp e_f850lp f_f090w e_f090w f_f115w e_f115w f_f150w e_f150w f_f200w e_f200w f_f277w e_f277w f_f335m e_f335m f_f356w e_f356w f_f410m e_f410m f_f444w e_f444w']\n"
     ]
    },
    {
     "ename": "IndexError",
     "evalue": "index 4724 is out of bounds for axis 0 with size 4724",
     "output_type": "error",
     "traceback": [
      "\u001b[1;31m---------------------------------------------------------------------------\u001b[0m",
      "\u001b[1;31mIndexError\u001b[0m                                Traceback (most recent call last)",
      "Cell \u001b[1;32mIn[29], line 59\u001b[0m\n\u001b[0;32m     56\u001b[0m \u001b[38;5;28;01mwhile\u001b[39;00m p \u001b[38;5;241m<\u001b[39m \u001b[38;5;28mlen\u001b[39m(fluxes[\u001b[38;5;241m0\u001b[39m]):\n\u001b[0;32m     57\u001b[0m     \u001b[38;5;66;03m# print(\"Yes\")\u001b[39;00m\n\u001b[0;32m     58\u001b[0m     p \u001b[38;5;241m=\u001b[39m \u001b[38;5;28mint\u001b[39m(\u001b[38;5;241m0\u001b[39m)\n\u001b[1;32m---> 59\u001b[0m     ID \u001b[38;5;241m=\u001b[39m IDs[q]\n\u001b[0;32m     60\u001b[0m     file_write\u001b[38;5;241m.\u001b[39mwrite(\u001b[38;5;28mstr\u001b[39m(ID) \u001b[38;5;241m+\u001b[39m \u001b[38;5;124m'\u001b[39m\u001b[38;5;124m   \u001b[39m\u001b[38;5;124m'\u001b[39m)\n\u001b[0;32m     61\u001b[0m     \u001b[38;5;28;01mwhile\u001b[39;00m p \u001b[38;5;241m<\u001b[39m \u001b[38;5;28mlen\u001b[39m(flux_headers):\n\u001b[0;32m     62\u001b[0m         \u001b[38;5;66;03m#print(p, q)\u001b[39;00m\n",
      "\u001b[1;31mIndexError\u001b[0m: index 4724 is out of bounds for axis 0 with size 4724"
     ]
    }
   ],
   "source": [
    "# Get data:\n",
    "\n",
    "fluxes = []\n",
    "\n",
    "k = int(0)\n",
    "\n",
    "while k < len(flux_headers):\n",
    "    flux_header = flux_headers[k]\n",
    "    fluxes.append(full_table[1].data[flux_header])\n",
    "    k = k + 1\n",
    "    \n",
    "errors = []\n",
    "\n",
    "l = int(0)\n",
    "\n",
    "while l < len(error_headers):\n",
    "    error_header = error_headers[l]\n",
    "    errors.append(full_table[1].data[error_header])\n",
    "    l = l + 1\n",
    "\n",
    "# print(fluxes)\n",
    "# print(errors)\n",
    "\n",
    "\n",
    "# Write data into file\n",
    "file_ids = open('flux_and_errors.only', 'r')\n",
    "flux_ids = []\n",
    "error_ids = []\n",
    "j = int(0)\n",
    "for j in range(0,1):\n",
    "    flux_id = file_ids.readline()\n",
    "    flux_ids.append(flux_id)\n",
    "for j in range(0,1):\n",
    "    error_id = file_ids.readline()\n",
    "    error_ids.append(error_id)\n",
    "flux_ids[len(flux_ids) - 1] = flux_ids[len(flux_ids) - 1].strip('\\n')\n",
    "file_ids.close()\n",
    "file_write = open('Namit_JADES_flux_example_sources_v093_CIRC1.only', 'w')\n",
    "i = int(0)\n",
    "file_write.write('# id ')\n",
    "while i < len(flux_ids):\n",
    "    file_write.write(str(flux_ids[i]))\n",
    "    i = i + 1\n",
    "print(flux_ids)\n",
    "file_write.write(' z_spec\\n')\n",
    "file_write.write('# id ')\n",
    "i = int(0)\n",
    "while i < len(flux_ids):\n",
    "    file_write.write(str(error_ids[i]))\n",
    "    i = i + 1\n",
    "file_write.write(' z_spec\\n')\n",
    "\n",
    "p = int(0)\n",
    "q = int(0)\n",
    "\n",
    "while p < len(fluxes[0]):\n",
    "    # print(\"Yes\")\n",
    "    p = int(0)\n",
    "    ID = IDs[q]\n",
    "    file_write.write(str(ID) + '   ')\n",
    "    while p < len(flux_headers):\n",
    "        #print(p, q)\n",
    "        line_1 = fluxes[p][q]\n",
    "        line_2 = errors[p][q]\n",
    "        \n",
    "        file_write.write(str(line_1) + '       ' + str(line_2) + '       ')\n",
    "        ##print(str(line_1) + '       ' + str(line_2) + '       ')\n",
    "        p = p + 1\n",
    "    file_write.write('-9999' + '\\n')\n",
    "    q = q + 1\n"
   ]
  },
  {
   "cell_type": "code",
   "execution_count": null,
   "id": "a5733575",
   "metadata": {},
   "outputs": [],
   "source": []
  },
  {
   "cell_type": "code",
   "execution_count": null,
   "id": "cd3f7066",
   "metadata": {},
   "outputs": [],
   "source": []
  },
  {
   "cell_type": "code",
   "execution_count": null,
   "id": "b3bb69da",
   "metadata": {},
   "outputs": [],
   "source": []
  }
 ],
 "metadata": {
  "kernelspec": {
   "display_name": "Python 3 (ipykernel)",
   "language": "python",
   "name": "python3"
  },
  "language_info": {
   "codemirror_mode": {
    "name": "ipython",
    "version": 3
   },
   "file_extension": ".py",
   "mimetype": "text/x-python",
   "name": "python",
   "nbconvert_exporter": "python",
   "pygments_lexer": "ipython3",
   "version": "3.11.4"
  }
 },
 "nbformat": 4,
 "nbformat_minor": 5
}
