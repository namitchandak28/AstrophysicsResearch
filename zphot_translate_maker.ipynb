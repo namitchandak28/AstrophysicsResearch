{
 "cells": [
  {
   "cell_type": "code",
   "execution_count": 17,
   "id": "141b0aaa",
   "metadata": {},
   "outputs": [],
   "source": [
    "import os\n",
    "import numpy as np\n",
    "import matplotlib.pyplot as plt\n",
    "import eazy\n",
    "from astropy.io import fits"
   ]
  },
  {
   "cell_type": "code",
   "execution_count": 18,
   "id": "67c80946",
   "metadata": {},
   "outputs": [
    {
     "name": "stdout",
     "output_type": "stream",
     "text": [
      "['HST_F435W', 'HST_F606W', 'HST_F775W', 'HST_F814W', 'HST_F850LP', 'NRC_F090W', 'NRC_F115W', 'NRC_F150W', 'NRC_F200W', 'NRC_F277W', 'NRC_F335M', 'NRC_F356W', 'NRC_F410M', 'NRC_F444W']\n"
     ]
    }
   ],
   "source": [
    "full_table = fits.open(\"Namit_JADES_flux_example_sources_v093_CIRC1.fits\")\n",
    "IDs = full_table[1].data['ID']\n",
    "\n",
    "file_headers = full_table[1].header # Get data from coloumn\n",
    "i = int(14)\n",
    "flux_headers = []\n",
    "while i < len(file_headers):\n",
    "    flux_headers.append(file_headers[i])\n",
    "    i = i + 4\n",
    "print(flux_headers)"
   ]
  },
  {
   "cell_type": "code",
   "execution_count": 19,
   "id": "7880b6dc",
   "metadata": {},
   "outputs": [
    {
     "name": "stdout",
     "output_type": "stream",
     "text": [
      "14\n",
      "hst_f435w\n",
      "hst_f606w\n",
      "hst_f775w\n",
      "hst_f814w\n",
      "hst_f850lp\n",
      "nrc_f090w\n",
      "nrc_f115w\n",
      "nrc_f150w\n",
      "nrc_f200w\n",
      "nrc_f277w\n",
      "nrc_f335m\n",
      "nrc_f356w\n",
      "nrc_f410m\n",
      "nrc_f444w\n",
      "['1', '4', '5', '6', '7', '308', '309', '310', '311', '356', '381', '357', '383', '358']\n"
     ]
    }
   ],
   "source": [
    "file_to_find_in = open('FILTER.RES.latest.info', 'r')\n",
    "\n",
    "lines = []\n",
    "for i in range(419):\n",
    "    line = file_to_find_in.readline()\n",
    "    lines.append(line)\n",
    "\n",
    "print(len(flux_headers))\n",
    "    \n",
    "j = int(0)\n",
    "k = int(0)\n",
    "indices = []\n",
    "while j < len(flux_headers):\n",
    "    flux_header = str.lower(flux_headers[j])\n",
    "    k = int(0)\n",
    "    while k < len(lines):\n",
    "        if (str(flux_header[4:])) in lines[k]:\n",
    "            indices.append(lines[k].split('  ')[0])\n",
    "            print(flux_header)\n",
    "            break\n",
    "        k = k + 1\n",
    "    j = j + 1\n",
    "\n",
    "print(indices)"
   ]
  },
  {
   "cell_type": "code",
   "execution_count": 20,
   "id": "3ac94854",
   "metadata": {},
   "outputs": [],
   "source": [
    "file_to_write = open('Namit_zphot.translate', 'w')\n",
    "\n",
    "flux_filters = []\n",
    "flux_errors = []\n",
    "flux_ids = []\n",
    "    \n",
    "l = int(0)\n",
    "\n",
    "while l < len(flux_headers):\n",
    "    flux_filter = str.lower(flux_headers[l])\n",
    "    flux_id = indices[l]\n",
    "    \n",
    "    flux_filters.append('f_' + flux_filter[4:])\n",
    "    flux_errors.append('e_' + flux_filter[4:])\n",
    "    flux_ids.append(flux_id)\n",
    "    \n",
    "    file_to_write.write(\"f_\" + flux_filter[4:] + ' ' + 'F' + flux_id + '\\n')\n",
    "    file_to_write.write(\"e_\" + flux_filter[4:] + ' ' + 'E' + flux_id + '\\n')\n",
    "    l = l + 1"
   ]
  },
  {
   "cell_type": "code",
   "execution_count": 23,
   "id": "7e34cb51",
   "metadata": {},
   "outputs": [
    {
     "name": "stdout",
     "output_type": "stream",
     "text": [
      "['f_f435w', 'f_f606w', 'f_f775w', 'f_f814w', 'f_f850lp', 'f_f090w', 'f_f115w', 'f_f150w', 'f_f200w', 'f_f277w', 'f_f335m', 'f_f356w', 'f_f410m', 'f_f444w']\n",
      "['e_f435w', 'e_f606w', 'e_f775w', 'e_f814w', 'e_f850lp', 'e_f090w', 'e_f115w', 'e_f150w', 'e_f200w', 'e_f277w', 'e_f335m', 'e_f356w', 'e_f410m', 'e_f444w']\n"
     ]
    }
   ],
   "source": [
    "flux_errors_file = open('flux_and_errors.only', 'w')\n",
    "\n",
    "i = int(0)\n",
    "flux_errors_file.write(flux_filters[i] + ' ' + flux_errors[i])\n",
    "i = i + 1\n",
    "while i < len(flux_filters):\n",
    "    flux_errors_file.write(' ' + flux_filters[i] + ' ' + flux_errors[i])\n",
    "    i = i + 1\n",
    "\n",
    "flux_errors_file.write('\\n')\n",
    "    \n",
    "j = int(0)\n",
    "flux_errors_file.write('F' + flux_ids[j] + ' ' + 'E' + flux_ids[j])\n",
    "j = j + 1\n",
    "while j < len(flux_ids):\n",
    "    flux_errors_file.write(' ' + 'F' + flux_ids[j] + ' ' + 'E' + flux_ids[j])\n",
    "    j = j + 1\n",
    "print(flux_filters)\n",
    "print(flux_errors)"
   ]
  },
  {
   "cell_type": "code",
   "execution_count": null,
   "id": "922c377d",
   "metadata": {},
   "outputs": [],
   "source": []
  },
  {
   "cell_type": "code",
   "execution_count": null,
   "id": "5a53c892",
   "metadata": {},
   "outputs": [],
   "source": []
  },
  {
   "cell_type": "code",
   "execution_count": null,
   "id": "cf8b21a8",
   "metadata": {},
   "outputs": [],
   "source": []
  },
  {
   "cell_type": "code",
   "execution_count": null,
   "id": "e1488f36",
   "metadata": {},
   "outputs": [],
   "source": []
  }
 ],
 "metadata": {
  "kernelspec": {
   "display_name": "Python 3 (ipykernel)",
   "language": "python",
   "name": "python3"
  },
  "language_info": {
   "codemirror_mode": {
    "name": "ipython",
    "version": 3
   },
   "file_extension": ".py",
   "mimetype": "text/x-python",
   "name": "python",
   "nbconvert_exporter": "python",
   "pygments_lexer": "ipython3",
   "version": "3.11.4"
  }
 },
 "nbformat": 4,
 "nbformat_minor": 5
}
